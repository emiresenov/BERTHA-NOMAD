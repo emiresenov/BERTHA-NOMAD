{
 "cells": [
  {
   "cell_type": "code",
   "execution_count": 1,
   "id": "cfade2ec",
   "metadata": {},
   "outputs": [],
   "source": [
    "from Nomad_API import *\n",
    "import yaml"
   ]
  },
  {
   "cell_type": "code",
   "execution_count": 2,
   "id": "fc5d9dd6",
   "metadata": {},
   "outputs": [],
   "source": [
    "file = '/Users/emiresenov/secret.txt'\n",
    "\n",
    "password = \"\"\n",
    "with open(file, \"r\") as text:\n",
    "    for line in text:\n",
    "        password = line\n",
    "\n",
    "username = 'emiresenov'\n",
    "nomad_url = 'http://localhost/nomad-oasis/api/v1/' "
   ]
  },
  {
   "cell_type": "code",
   "execution_count": 3,
   "id": "6e18afc5",
   "metadata": {},
   "outputs": [],
   "source": [
    "token = get_authentication_token(nomad_url, username, password)"
   ]
  },
  {
   "cell_type": "code",
   "execution_count": 4,
   "id": "10dcd21c",
   "metadata": {},
   "outputs": [],
   "source": [
    "upload_id = upload_to_NOMAD(nomad_url, token, 'data/data.zip')"
   ]
  },
  {
   "cell_type": "code",
   "execution_count": 5,
   "id": "0d6f3c01",
   "metadata": {},
   "outputs": [
    {
     "name": "stdout",
     "output_type": "stream",
     "text": [
      "Started: process_upload\n"
     ]
    }
   ],
   "source": [
    "last_status_message = check_upload_status(nomad_url, token, upload_id)\n",
    "print(last_status_message)"
   ]
  },
  {
   "cell_type": "code",
   "execution_count": 8,
   "id": "f890a9a6",
   "metadata": {},
   "outputs": [
    {
     "name": "stdout",
     "output_type": "stream",
     "text": [
      "<Response [200]>\n"
     ]
    }
   ],
   "source": [
    "response = publish_upload(nomad_url, token, upload_id)\n",
    "print(response)"
   ]
  },
  {
   "cell_type": "code",
   "execution_count": 7,
   "id": "14f2c700",
   "metadata": {},
   "outputs": [
    {
     "name": "stdout",
     "output_type": "stream",
     "text": [
      "Matching\n"
     ]
    }
   ],
   "source": [
    "last_status_message = check_upload_status(nomad_url, token, upload_id)\n",
    "print(last_status_message)"
   ]
  },
  {
   "cell_type": "code",
   "execution_count": null,
   "id": "fc97901a",
   "metadata": {},
   "outputs": [],
   "source": []
  },
  {
   "cell_type": "code",
   "execution_count": null,
   "id": "c128ee80",
   "metadata": {},
   "outputs": [],
   "source": []
  },
  {
   "cell_type": "code",
   "execution_count": null,
   "id": "b4238c79",
   "metadata": {},
   "outputs": [],
   "source": []
  }
 ],
 "metadata": {
  "kernelspec": {
   "display_name": "Python 3 (ipykernel)",
   "language": "python",
   "name": "python3"
  },
  "language_info": {
   "codemirror_mode": {
    "name": "ipython",
    "version": 3
   },
   "file_extension": ".py",
   "mimetype": "text/x-python",
   "name": "python",
   "nbconvert_exporter": "python",
   "pygments_lexer": "ipython3",
   "version": "3.11.7"
  }
 },
 "nbformat": 4,
 "nbformat_minor": 5
}
