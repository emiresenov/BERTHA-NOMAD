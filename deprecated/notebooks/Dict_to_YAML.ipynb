{
 "cells": [
  {
   "cell_type": "markdown",
   "id": "696dc48a",
   "metadata": {},
   "source": [
    "# TODOs (project)\n",
    "\n",
    "- Add NA values (see \"data.archive.yaml\")\n",
    "- Add lab_ids for material sources\n",
    "- Add date when we have change ISO format (see https://github.com/Automate-Solar/BERTHA/pull/11)\n"
   ]
  },
  {
   "cell_type": "code",
   "execution_count": 1,
   "id": "dc883afc",
   "metadata": {},
   "outputs": [],
   "source": [
    "import json\n",
    "import yaml\n",
    "import zipfile"
   ]
  },
  {
   "cell_type": "code",
   "execution_count": 2,
   "id": "391f614b",
   "metadata": {},
   "outputs": [],
   "source": [
    "with open('data/data.json') as f:\n",
    "    data = json.load(f)"
   ]
  },
  {
   "cell_type": "code",
   "execution_count": 3,
   "id": "b1b832eb",
   "metadata": {},
   "outputs": [],
   "source": [
    "dic = data[0]"
   ]
  },
  {
   "cell_type": "code",
   "execution_count": 4,
   "id": "e66ba598",
   "metadata": {},
   "outputs": [],
   "source": [
    "#dic"
   ]
  },
  {
   "cell_type": "code",
   "execution_count": 5,
   "id": "0e56f39e",
   "metadata": {},
   "outputs": [],
   "source": [
    "# print(yaml.dump(steps))"
   ]
  },
  {
   "cell_type": "code",
   "execution_count": 6,
   "id": "0eeae943",
   "metadata": {},
   "outputs": [],
   "source": [
    "def getPoweredAxes(arr):\n",
    "    axes = []\n",
    "    for i in range(len(arr)):\n",
    "        if arr[i]:\n",
    "            axes.append(str(i+1))\n",
    "    return axes"
   ]
  },
  {
   "cell_type": "code",
   "execution_count": 7,
   "id": "390bd1b9",
   "metadata": {},
   "outputs": [],
   "source": [
    "def getYamlMagnetrons(dic, power_axes):\n",
    "    axes = getPoweredAxes(power_axes)\n",
    "    return [getYamlMagnetron(dic, axis) for axis in axes]"
   ]
  },
  {
   "cell_type": "code",
   "execution_count": 8,
   "id": "4e85951b",
   "metadata": {},
   "outputs": [],
   "source": [
    "def getYamlMagnetron(dic, axis):\n",
    "    magnetron = {\n",
    "        'name' : dic['Material Ax' + axis],\n",
    "        'material' : {\n",
    "            'name' : dic['Material Ax' + axis],\n",
    "            'lab_id' : None\n",
    "        },\n",
    "        'vapor_source' : {\n",
    "            'setpoints' : {\n",
    "            'set_power' : dic['Power_Ax' + axis + '_setpoint_[W]'],\n",
    "            'set_voltage' : None,\n",
    "            'set_current' : None\n",
    "            },\n",
    "            'power' : {\n",
    "                'values' : dic['Actual_Power_Ax' + axis + '_[W]'],\n",
    "                'times' : dic['Time_[s]'],\n",
    "                'mean' : dic['Actual_Power_Ax' + axis + '_[W]_Mean'],\n",
    "                'error' : dic['Actual_Power_Ax' + axis + '_[W]_STD']\n",
    "            },\n",
    "            'voltage' : {\n",
    "                'values' : dic['Voltage_Ax' + axis + '_[V]'],\n",
    "                'times' : dic['Time_[s]'],\n",
    "                'mean' : dic['Voltage_Ax' + axis + '_[V]_Mean'],\n",
    "                'error' : dic['Voltage_Ax' + axis + '_[V]_STD'],\n",
    "            },\n",
    "            'current' : {\n",
    "                'values' : [],\n",
    "                'times' : dic['Time_[s]'],\n",
    "                'mean' : None,\n",
    "                'error' : None\n",
    "            },\n",
    "            'power_supply' : {\n",
    "                'instrument_id' : \"Power Supply Ax\" + axis,\n",
    "                'frequency' : None\n",
    "            }\n",
    "        },\n",
    "        'position' : {\n",
    "            'center_xyz' : None,\n",
    "            'center_normal' : None,\n",
    "            'rotation' : None\n",
    "        }\n",
    "    }\n",
    "    return magnetron"
   ]
  },
  {
   "cell_type": "code",
   "execution_count": 9,
   "id": "e9a0349f",
   "metadata": {},
   "outputs": [],
   "source": [
    "arr = [True, True, True]\n",
    "\n",
    "        \n",
    "#getYamlMagnetrons(dic, arr)\n",
    "        "
   ]
  },
  {
   "cell_type": "markdown",
   "id": "27891dae",
   "metadata": {},
   "source": [
    "# Environment"
   ]
  },
  {
   "cell_type": "code",
   "execution_count": 10,
   "id": "c5ff9ea4",
   "metadata": {},
   "outputs": [],
   "source": [
    "def getYamlQCM(dictionary, i):\n",
    "    prefix = 'QCM_' + str(i) + '_'\n",
    "    yamlQCM = {\n",
    "            'crystal_info' : {\n",
    "                'info' : None,\n",
    "                'resonant_frequency' : None\n",
    "            },\n",
    "            'sensor_data' : {\n",
    "                'values' : dictionary[prefix + 'frequency_[Hz]'],\n",
    "                'mean' : None,\n",
    "                'error' : None,\n",
    "                'slope' : dictionary[prefix + 'rate_[df/dt]']\n",
    "            },\n",
    "            'remaining_lifetime' : {\n",
    "                'value' : dictionary[prefix + 'xtal_lifetime_[%]']\n",
    "            },\n",
    "            'mass_deposition_rate' : {\n",
    "                'value' : None,\n",
    "                'error' : None\n",
    "            }\n",
    "        }\n",
    "    return yamlQCM"
   ]
  },
  {
   "cell_type": "code",
   "execution_count": 11,
   "id": "2f430d5a",
   "metadata": {},
   "outputs": [],
   "source": [
    "def getYamlEnv(dictionary):\n",
    "    environment = {\n",
    "        'gas_flow' : {\n",
    "            'values' :  dictionary['Gas_flow_[sccm]'],\n",
    "            'mean' : dictionary['Gas_flow_[sccm]_Mean'],\n",
    "            'error' : dictionary['Gas_flow_[sccm]_STD'],\n",
    "            'gas' : 'Here we do the pubchem thing'\n",
    "        },\n",
    "        'setpoints' : {\n",
    "            'pressure' : dictionary['Pressure_setpoint_[mTorr]'],\n",
    "            'flow' : None,\n",
    "        },\n",
    "        'pressure' : {\n",
    "            'values' : dictionary['Actual_pressure_[mTorr]'],\n",
    "            'mean' : dictionary['Actual_pressure_[mTorr]_Mean'],\n",
    "            'error' : dictionary['Actual_pressure_[mTorr]_STD']\n",
    "        },\n",
    "        'sensors' : [getYamlQCM(dictionary, i+1) for i in range(3)]\n",
    "    }\n",
    "    return environment\n",
    "    \n"
   ]
  },
  {
   "cell_type": "code",
   "execution_count": 12,
   "id": "2bacd76e",
   "metadata": {},
   "outputs": [],
   "source": [
    "#environment = getYamlEnv(dic)"
   ]
  },
  {
   "cell_type": "code",
   "execution_count": 13,
   "id": "ff3f109a",
   "metadata": {},
   "outputs": [],
   "source": [
    "data = {'data' : {\n",
    "            'm_def' : \"../uploads/1WE7CfSoQbS8LidbT0XLfw/raw/automate-solar_schema.archive.yaml#/definitions/section_definitions/AutomateSolarSputterDeposition\",\n",
    "            'quantity' : None,\n",
    "            'name' : dic['Run_ID'],\n",
    "            'lab_id' : \"Uppsala University Åutomate-Solar\",\n",
    "            'description' : f'{dic[\"Campaign description\"]}, {dic[\"Campaign code\"]}, {dic[\"Series_description\"]}',\n",
    "            'steps' : [\n",
    "                {\n",
    "                    'sources' : getYamlMagnetrons(dic, [True,True,True]),\n",
    "                    'environment' : getYamlEnv(dic)\n",
    "                }\n",
    "            ]\n",
    "    }\n",
    "}"
   ]
  },
  {
   "cell_type": "code",
   "execution_count": 14,
   "id": "29dcb48b",
   "metadata": {},
   "outputs": [],
   "source": [
    "#print(yaml.dump(data, default_flow_style=False))"
   ]
  },
  {
   "cell_type": "code",
   "execution_count": 15,
   "id": "bfe9dbdd",
   "metadata": {},
   "outputs": [],
   "source": [
    "with open('data/data.archive.yaml', 'w') as outfile:\n",
    "    yaml.dump(data, outfile, default_flow_style=False)"
   ]
  },
  {
   "cell_type": "code",
   "execution_count": 16,
   "id": "9aa48538",
   "metadata": {},
   "outputs": [],
   "source": [
    "with zipfile.ZipFile('data/data.zip', 'w') as zipped_f:\n",
    "    zipped_f.writestr(\"data/data.archive.yaml\", yaml.dump(data, default_flow_style=False))"
   ]
  },
  {
   "cell_type": "code",
   "execution_count": null,
   "id": "05db9c44",
   "metadata": {},
   "outputs": [],
   "source": []
  },
  {
   "cell_type": "code",
   "execution_count": null,
   "id": "e2158057",
   "metadata": {},
   "outputs": [],
   "source": []
  },
  {
   "cell_type": "code",
   "execution_count": 17,
   "id": "12e3a8c9",
   "metadata": {},
   "outputs": [],
   "source": [
    "#test = yaml.dump(data, default_flow_style=False)"
   ]
  },
  {
   "cell_type": "code",
   "execution_count": null,
   "id": "1dc45460",
   "metadata": {},
   "outputs": [],
   "source": []
  },
  {
   "cell_type": "code",
   "execution_count": null,
   "id": "8a3a8686",
   "metadata": {},
   "outputs": [],
   "source": []
  },
  {
   "cell_type": "code",
   "execution_count": null,
   "id": "f56e15b9",
   "metadata": {},
   "outputs": [],
   "source": []
  }
 ],
 "metadata": {
  "kernelspec": {
   "display_name": "Python 3 (ipykernel)",
   "language": "python",
   "name": "python3"
  },
  "language_info": {
   "codemirror_mode": {
    "name": "ipython",
    "version": 3
   },
   "file_extension": ".py",
   "mimetype": "text/x-python",
   "name": "python",
   "nbconvert_exporter": "python",
   "pygments_lexer": "ipython3",
   "version": "3.11.9"
  }
 },
 "nbformat": 4,
 "nbformat_minor": 5
}
