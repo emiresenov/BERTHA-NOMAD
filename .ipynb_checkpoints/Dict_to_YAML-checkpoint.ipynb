{
 "cells": [
  {
   "cell_type": "code",
   "execution_count": 1,
   "id": "dc883afc",
   "metadata": {},
   "outputs": [],
   "source": [
    "import json\n",
    "import yaml\n",
    "import zipfile"
   ]
  },
  {
   "cell_type": "code",
   "execution_count": 2,
   "id": "391f614b",
   "metadata": {},
   "outputs": [],
   "source": [
    "with open('data/data.json') as f:\n",
    "    data = json.load(f)"
   ]
  },
  {
   "cell_type": "code",
   "execution_count": 3,
   "id": "b1b832eb",
   "metadata": {},
   "outputs": [],
   "source": [
    "dic = data[0]"
   ]
  },
  {
   "cell_type": "code",
   "execution_count": 4,
   "id": "89855efa",
   "metadata": {},
   "outputs": [],
   "source": [
    "magnetron = {\n",
    "        'name' : dic['source_' + '1' + '_material'],\n",
    "        'material' : {\n",
    "            'name' : dic['source_' + '1' + '_material'],\n",
    "            'lab_id' : None\n",
    "        }}"
   ]
  },
  {
   "cell_type": "code",
   "execution_count": 5,
   "id": "0eeae943",
   "metadata": {},
   "outputs": [],
   "source": [
    "def getPoweredAxes(arr):\n",
    "    axes = []\n",
    "    for i in range(len(arr)):\n",
    "        if arr[i]:\n",
    "            axes.append(str(i+1))\n",
    "    return axes"
   ]
  },
  {
   "cell_type": "code",
   "execution_count": 6,
   "id": "390bd1b9",
   "metadata": {},
   "outputs": [],
   "source": [
    "def getYamlMagnetrons(dic, power_axes):\n",
    "    axes = getPoweredAxes(power_axes)\n",
    "    return [getYamlMagnetron(dic, axis) for axis in axes]"
   ]
  },
  {
   "cell_type": "code",
   "execution_count": 7,
   "id": "4e85951b",
   "metadata": {},
   "outputs": [],
   "source": [
    "def getYamlMagnetron(dic, axis):\n",
    "    magnetron = {\n",
    "        'name' : dic['source_' + axis + '_material'],\n",
    "        'material' : {\n",
    "            'name' : dic['source_' + axis + '_material'],\n",
    "            'lab_id' : None\n",
    "        },\n",
    "        'vapor_source' : {\n",
    "            'setpoints' : {\n",
    "            'set_power' : dic['source_' + axis + '_set_power_[W]'],\n",
    "            'set_voltage' : None,\n",
    "            'set_current' : None\n",
    "            },\n",
    "            'power' : {\n",
    "                'values' : dic['source_' + axis + '_act_power_[W]'],\n",
    "                'times' : dic['time_[s]'],\n",
    "                'mean' : dic['source_' + axis + '_act_power_[W]_mean'],\n",
    "                'error' : dic['source_' + axis + '_act_power_[W]_mean']\n",
    "            },\n",
    "            'voltage' : {\n",
    "                'values' : dic['source_' + axis + '_voltage_[V]'],\n",
    "                'times' : dic['time_[s]'],\n",
    "                'mean' : dic['source_' + axis + '_voltage_[V]_mean'],\n",
    "                'error' : dic['source_' + axis + '_voltage_[V]_std'],\n",
    "            },\n",
    "            'current' : {\n",
    "                'values' : [],\n",
    "                'times' : dic['time_[s]'],\n",
    "                'mean' : None,\n",
    "                'error' : None\n",
    "            },\n",
    "            'power_supply' : {\n",
    "                'instrument_id' : dic['source_' + axis + '_supply'],\n",
    "                'supply_type' : dic['source_' + axis + '_mode'],\n",
    "                'ramp_rate' : dic['source_' + axis + '_ramp_rate[W/s]']\n",
    "            }\n",
    "        },\n",
    "        'position' : {\n",
    "            'center_xyz' : None,\n",
    "            'center_normal' : None,\n",
    "            'rotation' : None\n",
    "        }\n",
    "    }\n",
    "    return magnetron"
   ]
  },
  {
   "cell_type": "markdown",
   "id": "27891dae",
   "metadata": {},
   "source": [
    "# Environment"
   ]
  },
  {
   "cell_type": "code",
   "execution_count": 8,
   "id": "c5ff9ea4",
   "metadata": {},
   "outputs": [],
   "source": [
    "def getYamlQCM(dictionary, i):\n",
    "    prefix = 'qcm_' + str(i) + '_'\n",
    "    yamlQCM = {\n",
    "            'crystal_info' : {\n",
    "                'info' : None,\n",
    "                'resonant_frequency' : None\n",
    "            },\n",
    "            'sensor_data' : {\n",
    "                'values' : dictionary[prefix + 'frequency_[Hz]'],\n",
    "                'mean' : dictionary[prefix + 'frequency_[Hz]_mean'],\n",
    "                'error' : None,\n",
    "                'slope' : dictionary[prefix + 'frequency_rate_[/s2]'],\n",
    "                'slope_error': dictionary[prefix + 'frequency_rate_[/s2]_error']\n",
    "            },\n",
    "            'remaining_lifetime' : {\n",
    "                'value' : dictionary[prefix + 'lifetime_[%]']\n",
    "            },\n",
    "            'mass_deposition_rate' : {\n",
    "                'value' : dictionary[prefix + 'mass_rate_[g/cm2s]'],\n",
    "                'error' : dictionary[prefix + 'mass_rate_[g/cm2s]_error']\n",
    "            }\n",
    "        }\n",
    "    return yamlQCM"
   ]
  },
  {
   "cell_type": "code",
   "execution_count": 9,
   "id": "2f430d5a",
   "metadata": {},
   "outputs": [],
   "source": [
    "def getYamlEnv(dictionary):\n",
    "    environment = {\n",
    "        'gas_flow' : {\n",
    "            'values' :  dictionary['flow_[sccm]'],\n",
    "            'mean' : dictionary['flow_[sccm]_mean'],\n",
    "            'error' : dictionary['flow_[sccm]_std'],\n",
    "            'gas' : 'Here we do the pubchem thing'\n",
    "        },\n",
    "        'setpoints' : {\n",
    "            'pressure' : dictionary['set_pressure_[mTorr]'],\n",
    "            'flow' : None,\n",
    "        },\n",
    "        'pressure' : {\n",
    "            'values' : dictionary['act_pressure_[mTorr]'],\n",
    "            'mean' : dictionary['act_pressure_[mTorr]_mean'],\n",
    "            'error' : dictionary['act_pressure_[mTorr]_std']\n",
    "        },\n",
    "        'sensors' : [getYamlQCM(dictionary, i+1) for i in range(3)] if dic['qcms_active'] else []\n",
    "    }\n",
    "    return environment\n",
    "    \n"
   ]
  },
  {
   "cell_type": "code",
   "execution_count": 10,
   "id": "2bacd76e",
   "metadata": {},
   "outputs": [],
   "source": [
    "#environment = getYamlEnv(dic)"
   ]
  },
  {
   "cell_type": "code",
   "execution_count": 11,
   "id": "0dcead35",
   "metadata": {},
   "outputs": [],
   "source": [
    "#environment"
   ]
  },
  {
   "cell_type": "code",
   "execution_count": 12,
   "id": "ff3f109a",
   "metadata": {},
   "outputs": [],
   "source": [
    "data = {'data' : {\n",
    "            'm_def' : \"../uploads/CCiOrohGTgmAxPK_PIc31Q/raw/automate-solar_schema.archive.yaml#/definitions/section_definitions/AutomateSolarSputterDeposition\",\n",
    "            'quantity' : None,\n",
    "            'name' : dic['series_id'],\n",
    "            'lab_id' : \"Uppsala University Åutomate-Solar\",\n",
    "            'description' : f'{dic[\"campaign_description\"]}, {dic[\"campaign_id\"]}, {dic[\"series_description\"]}',\n",
    "            'steps' : [\n",
    "                {\n",
    "                    'sources' : getYamlMagnetrons(dic, [True,False,False,False,False,False]),\n",
    "                    'environment' : getYamlEnv(dic)\n",
    "                }\n",
    "            ]\n",
    "    }\n",
    "}"
   ]
  },
  {
   "cell_type": "code",
   "execution_count": 13,
   "id": "be18c8f1",
   "metadata": {},
   "outputs": [],
   "source": [
    "#data"
   ]
  },
  {
   "cell_type": "code",
   "execution_count": 14,
   "id": "29dcb48b",
   "metadata": {},
   "outputs": [],
   "source": [
    "#print(yaml.dump(data, default_flow_style=False))"
   ]
  },
  {
   "cell_type": "code",
   "execution_count": 15,
   "id": "bfe9dbdd",
   "metadata": {},
   "outputs": [],
   "source": [
    "with open('data/data.archive.yaml', 'w') as outfile:\n",
    "    yaml.dump(data, outfile, default_flow_style=False)"
   ]
  },
  {
   "cell_type": "code",
   "execution_count": 16,
   "id": "9aa48538",
   "metadata": {},
   "outputs": [],
   "source": [
    "with zipfile.ZipFile('data/data.zip', 'w') as zipped_f:\n",
    "    zipped_f.writestr(\"data/data.archive.yaml\", yaml.dump(data, default_flow_style=False))"
   ]
  },
  {
   "cell_type": "code",
   "execution_count": null,
   "id": "05db9c44",
   "metadata": {},
   "outputs": [],
   "source": []
  },
  {
   "cell_type": "code",
   "execution_count": null,
   "id": "e2158057",
   "metadata": {},
   "outputs": [],
   "source": []
  },
  {
   "cell_type": "code",
   "execution_count": 17,
   "id": "12e3a8c9",
   "metadata": {},
   "outputs": [],
   "source": [
    "#test = yaml.dump(data, default_flow_style=False)"
   ]
  },
  {
   "cell_type": "code",
   "execution_count": null,
   "id": "1dc45460",
   "metadata": {},
   "outputs": [],
   "source": []
  },
  {
   "cell_type": "code",
   "execution_count": null,
   "id": "8a3a8686",
   "metadata": {},
   "outputs": [],
   "source": []
  },
  {
   "cell_type": "code",
   "execution_count": null,
   "id": "f56e15b9",
   "metadata": {},
   "outputs": [],
   "source": []
  }
 ],
 "metadata": {
  "kernelspec": {
   "display_name": "Python 3 (ipykernel)",
   "language": "python",
   "name": "python3"
  },
  "language_info": {
   "codemirror_mode": {
    "name": "ipython",
    "version": 3
   },
   "file_extension": ".py",
   "mimetype": "text/x-python",
   "name": "python",
   "nbconvert_exporter": "python",
   "pygments_lexer": "ipython3",
   "version": "3.11.9"
  }
 },
 "nbformat": 4,
 "nbformat_minor": 5
}
