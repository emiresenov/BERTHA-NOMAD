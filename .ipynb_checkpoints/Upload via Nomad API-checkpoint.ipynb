{
 "cells": [
  {
   "cell_type": "code",
   "execution_count": 1,
   "id": "cfade2ec",
   "metadata": {},
   "outputs": [],
   "source": [
    "import json\n",
    "import pandas as pd\n",
    "import matplotlib.pyplot as plt\n",
    "import numpy as np\n",
    "from Nomad_API import *\n",
    "import yaml"
   ]
  },
  {
   "cell_type": "code",
   "execution_count": 2,
   "id": "fc5d9dd6",
   "metadata": {},
   "outputs": [],
   "source": [
    "username = 'emiresenov'\n",
    "password = 'NOTMYACTUALPASSWORD'\n",
    "nomad_url = 'http://localhost/nomad-oasis/api/v1/' "
   ]
  },
  {
   "cell_type": "code",
   "execution_count": 3,
   "id": "6e18afc5",
   "metadata": {},
   "outputs": [],
   "source": [
    "token = get_authentication_token(nomad_url, username, password)"
   ]
  },
  {
   "cell_type": "code",
   "execution_count": 4,
   "id": "10dcd21c",
   "metadata": {},
   "outputs": [],
   "source": [
    "upload_id = upload_to_NOMAD(nomad_url, token, 'data.zip')"
   ]
  },
  {
   "cell_type": "code",
   "execution_count": 5,
   "id": "0d6f3c01",
   "metadata": {},
   "outputs": [
    {
     "name": "stdout",
     "output_type": "stream",
     "text": [
      "Started: process_upload\n"
     ]
    }
   ],
   "source": [
    "last_status_message = check_upload_status(nomad_url, token, upload_id)\n",
    "print(last_status_message)"
   ]
  },
  {
   "cell_type": "code",
   "execution_count": 6,
   "id": "f890a9a6",
   "metadata": {},
   "outputs": [],
   "source": [
    "response = publish_upload(nomad_url, token, upload_id)"
   ]
  },
  {
   "cell_type": "code",
   "execution_count": 8,
   "id": "14f2c700",
   "metadata": {},
   "outputs": [
    {
     "name": "stdout",
     "output_type": "stream",
     "text": [
      "Process process_upload completed successfully\n"
     ]
    }
   ],
   "source": [
    "last_status_message = check_upload_status(nomad_url, token, upload_id)\n",
    "print(last_status_message)"
   ]
  },
  {
   "cell_type": "code",
   "execution_count": null,
   "id": "b4238c79",
   "metadata": {},
   "outputs": [],
   "source": []
  }
 ],
 "metadata": {
  "kernelspec": {
   "display_name": "Python 3 (ipykernel)",
   "language": "python",
   "name": "python3"
  },
  "language_info": {
   "codemirror_mode": {
    "name": "ipython",
    "version": 3
   },
   "file_extension": ".py",
   "mimetype": "text/x-python",
   "name": "python",
   "nbconvert_exporter": "python",
   "pygments_lexer": "ipython3",
   "version": "3.11.9"
  }
 },
 "nbformat": 4,
 "nbformat_minor": 5
}
